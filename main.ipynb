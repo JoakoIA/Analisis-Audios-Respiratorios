{
 "cells": [
  {
   "cell_type": "code",
   "execution_count": null,
   "metadata": {},
   "outputs": [],
   "source": [
    "import csv\n",
    "import os\n",
    "import shutil\n",
    "import numpy as np\n",
    "import scipy.io.wavfile as wav\n",
    "import matplotlib.pyplot as plt\n",
    "import pandas as pd\n",
    "from shutil import copyfile\n",
    "from scipy.io.wavfile import read, write\n",
    "import random\n",
    "from sklearn.ensemble import RandomForestClassifier\n",
    "from sklearn.model_selection import train_test_split\n",
    "from sklearn.metrics import accuracy_score\n",
    "from sklearn.svm import SVC\n",
    "import librosa\n",
    "from scipy.io import wavfile\n",
    "import librosa.util\n",
    "from sklearn.preprocessing import LabelEncoder\n",
    "from tensorflow.keras.models import Sequential\n",
    "from tensorflow.keras.layers import Conv1D, MaxPooling1D, Flatten, Dense\n",
    "from sklearn.impute import SimpleImputer"
   ]
  },
  {
   "attachments": {},
   "cell_type": "markdown",
   "metadata": {},
   "source": [
    "### Convertir el archivo demographic_info a csv"
   ]
  },
  {
   "cell_type": "code",
   "execution_count": null,
   "metadata": {},
   "outputs": [],
   "source": [
    "archivo_txt = 'demographic_info.txt'\n",
    "archivo_csv = 'demographic_info.csv'\n",
    "\n",
    "with open(archivo_txt, 'r') as archivo_entrada, open(archivo_csv, 'w', newline='') as archivo_salida:\n",
    "    lector = csv.reader(archivo_entrada, delimiter=',')\n",
    "    escritor = csv.writer(archivo_salida, delimiter=',')\n",
    "    \n",
    "    for linea in lector:\n",
    "        escritor.writerow(linea)"
   ]
  },
  {
   "attachments": {},
   "cell_type": "markdown",
   "metadata": {},
   "source": [
    "### Visualizar las señales de audio\n"
   ]
  },
  {
   "cell_type": "code",
   "execution_count": 125,
   "metadata": {},
   "outputs": [],
   "source": [
    "def VisualizarSeñales(folder_path):\n",
    "    # Ruta de la carpeta que contiene los archivos de audio\n",
    "\n",
    "    # Obtener la lista de archivos .wav en la carpeta\n",
    "    file_list = [file for file in os.listdir(folder_path) if file.endswith(\".wav\")]\n",
    "\n",
    "    # Recorrer cada archivo de audio\n",
    "    for file_name in file_list:\n",
    "        file_path = os.path.join(folder_path, file_name)\n",
    "        \n",
    "        # Cargar el archivo de audio\n",
    "        sample_rate, audio_data = wav.read(file_path)\n",
    "        \n",
    "        # Crear el vector de tiempo\n",
    "        duration = len(audio_data) / sample_rate\n",
    "        time = np.arange(0, duration, 1/sample_rate)\n",
    "        \n",
    "        # Graficar la señal de audio\n",
    "        plt.figure()\n",
    "        plt.plot(time, audio_data)\n",
    "        plt.xlabel(\"Tiempo (s)\")\n",
    "        plt.ylabel(\"Amplitud\")\n",
    "        plt.title(file_name)\n",
    "        plt.show()"
   ]
  },
  {
   "cell_type": "code",
   "execution_count": null,
   "metadata": {},
   "outputs": [],
   "source": [
    "VisualizarSeñales(\"audio_and_txt_files\")"
   ]
  },
  {
   "attachments": {},
   "cell_type": "markdown",
   "metadata": {},
   "source": [
    "### Aumentar la cantidad de datos"
   ]
  },
  {
   "cell_type": "code",
   "execution_count": null,
   "metadata": {},
   "outputs": [],
   "source": [
    "# Directorio donde se encuentran los archivos de audio y anotación\n",
    "directory = \"audio_and_txt_files/\"\n",
    "\n",
    "# Leer el archivo de diagnósticos de los pacientes\n",
    "diagnosis_df = pd.read_csv(\"patient_diagnosis.csv\")\n",
    "\n"
   ]
  },
  {
   "cell_type": "code",
   "execution_count": null,
   "metadata": {},
   "outputs": [],
   "source": [
    "# Crear una carpeta para guardar los archivos segmentados por diagnóstico\n",
    "output_directory = \"salida\"\n",
    "os.makedirs(output_directory, exist_ok=True)\n",
    "\n",
    "# Leer archivos de anotación y crear un DataFrame\n",
    "annotations = pd.DataFrame(columns=[\"Filename\", \"Start\", \"End\", \"Crackles\", \"Wheezes\", \"Diagnosis\"])\n",
    "\n"
   ]
  },
  {
   "cell_type": "code",
   "execution_count": null,
   "metadata": {},
   "outputs": [],
   "source": [
    "for filename in os.listdir(directory):\n",
    "    if filename.endswith(\".txt\"):\n",
    "        annotation_path = os.path.join(directory, filename)\n",
    "        audio_filename = filename.replace(\".txt\", \".wav\")\n",
    "        audio_path = os.path.join(directory, audio_filename)\n",
    "\n",
    "        # Leer el archivo de anotación y extraer información\n",
    "        with open(annotation_path, \"r\") as file:\n",
    "            lines = file.readlines()\n",
    "            for line in lines:\n",
    "                start, end, crackles, wheezes = line.split()\n",
    "                start = float(start)\n",
    "                end = float(end)\n",
    "                crackles = int(crackles)\n",
    "                wheezes = int(wheezes)\n",
    "                \n",
    "                # Obtener el número de paciente del nombre del archivo de audio\n",
    "                patient_number = audio_filename.split(\"_\")[0]\n",
    "        \n",
    "                # Obtener el diagnóstico del paciente\n",
    "                diagnosis = diagnosis_df.loc[diagnosis_df[\"patient_number\"] == int(patient_number), \"diagnosis\"].values[0]\n",
    "        \n",
    "                # Agregar los datos al DataFrame de anotaciones\n",
    "                annotation_data = pd.DataFrame([[audio_filename, start, end, crackles, wheezes, diagnosis]], columns=[\"Filename\", \"Start\", \"End\", \"Crackles\", \"Wheezes\", \"Diagnosis\"])\n",
    "                annotations = pd.concat([annotations, annotation_data], ignore_index=True)"
   ]
  },
  {
   "cell_type": "code",
   "execution_count": null,
   "metadata": {},
   "outputs": [],
   "source": [
    "# Leer los archivos de audio y segmentar según las anotaciones\n",
    "for index, row in annotations.iterrows():\n",
    "    audio_filename = row[\"Filename\"]\n",
    "    audio_path = os.path.join(directory, audio_filename)\n",
    "    \n",
    "    # Leer el archivo de audio\n",
    "    sample_rate, audio_data = read(audio_path)\n",
    "    \n",
    "    # Segmentar el audio según los tiempos de inicio y fin\n",
    "    start_sample = int(row[\"Start\"] * sample_rate)\n",
    "    end_sample = int(row[\"End\"] * sample_rate)\n",
    "    segmented_audio = audio_data[start_sample:end_sample]\n",
    "    \n",
    "    # Obtener el diagnóstico del paciente\n",
    "    diagnosis = row[\"Diagnosis\"]\n",
    "    \n",
    "    # Crear la carpeta correspondiente al diagnóstico (si no existe)\n",
    "    diagnosis_folder = os.path.join(output_directory, diagnosis)\n",
    "    os.makedirs(diagnosis_folder, exist_ok=True)\n",
    "    \n",
    "    # Guardar el archivo segmentado en la carpeta correspondiente\n",
    "    output_filename = f\"{audio_filename}_{index}.wav\"  # Nombre único para el archivo segmentado\n",
    "    output_path = os.path.join(diagnosis_folder, output_filename)\n",
    "    write(output_path, sample_rate, segmented_audio) \n",
    "# Ahora los ciclos de audio indicados en los archivos de texto se han guardado en carpetas correspondientes a los diagnósticos de los pacientes."
   ]
  },
  {
   "attachments": {},
   "cell_type": "markdown",
   "metadata": {},
   "source": [
    "### Segmentar una cantidad de datos uniforme para entrenar el modelo"
   ]
  },
  {
   "cell_type": "code",
   "execution_count": null,
   "metadata": {},
   "outputs": [],
   "source": [
    "# Directorio de origen y destino\n",
    "source_folder = \"salida\"\n",
    "destination_folder = \"salida-2\"\n",
    "\n",
    "# Lista de diagnósticos\n",
    "diagnoses = [\"Bronchiolitis\", \"COPD\", \"Healthy\", \"Pneumonia\", \"URTI\"]\n",
    "\n",
    "# Crear la carpeta de destino si no existe\n",
    "if not os.path.exists(destination_folder):\n",
    "    os.makedirs(destination_folder)\n",
    "\n",
    "# Recorrer los diagnósticos\n",
    "for diagnosis in diagnoses:\n",
    "    # Ruta de la carpeta del diagnóstico\n",
    "    diagnosis_folder = os.path.join(source_folder, diagnosis)\n",
    "    \n",
    "    # Obtener la lista de archivos de audio en la carpeta\n",
    "    audio_files = os.listdir(diagnosis_folder)\n",
    "    \n",
    "    # Seleccionar pseudoaleatoriamente 104 archivos de audio\n",
    "    selected_files = random.sample(audio_files, 160)\n",
    "    \n",
    "    # Mover los archivos seleccionados a la carpeta de destino\n",
    "    for file in selected_files:\n",
    "        source_path = os.path.join(diagnosis_folder, file)\n",
    "        destination_path = os.path.join(destination_folder, diagnosis, file)\n",
    "        os.makedirs(os.path.dirname(destination_path), exist_ok=True)\n",
    "        shutil.copy(source_path, destination_path)\n"
   ]
  },
  {
   "attachments": {},
   "cell_type": "markdown",
   "metadata": {},
   "source": [
    "### Modelos"
   ]
  },
  {
   "attachments": {},
   "cell_type": "markdown",
   "metadata": {},
   "source": [
    "#### Random Forest"
   ]
  },
  {
   "cell_type": "code",
   "execution_count": 113,
   "metadata": {},
   "outputs": [
    {
     "name": "stdout",
     "output_type": "stream",
     "text": [
      "Precisión del modelo: 31.87%\n"
     ]
    }
   ],
   "source": [
    "# Ruta de la carpeta que contiene los archivos de audio\n",
    "folder_path = \"salida-2\"\n",
    "\n",
    "# Lista de diagnósticos\n",
    "diagnoses = [\"Bronchiolitis\", \"COPD\", \"Healthy\", \"Pneumonia\", \"URTI\"]\n",
    "\n",
    "# Longitud fija para rellenar o truncar los archivos de audio\n",
    "fixed_length = 44100\n",
    "\n",
    "# Listas para almacenar los datos de entrenamiento\n",
    "X = []\n",
    "y = []\n",
    "\n",
    "# Recorrer los diagnósticos\n",
    "for diagnosis in diagnoses:\n",
    "    # Ruta de la carpeta del diagnóstico\n",
    "    diagnosis_folder = os.path.join(folder_path, diagnosis)\n",
    "    \n",
    "    # Obtener la lista de archivos de audio en la carpeta\n",
    "    audio_files = os.listdir(diagnosis_folder)\n",
    "    \n",
    "    # Recorrer los archivos de audio\n",
    "    for file in audio_files:\n",
    "        # Ruta del archivo de audio\n",
    "        audio_path = os.path.join(diagnosis_folder, file)\n",
    "        \n",
    "        # Leer el archivo de audio\n",
    "        sample_rate, audio_data = wavfile.read(audio_path)\n",
    "        \n",
    "        # Rellenar o truncar el archivo de audio para tener una longitud fija\n",
    "        if len(audio_data) < fixed_length:\n",
    "            audio_data = np.pad(audio_data, (0, fixed_length - len(audio_data)), mode='constant')\n",
    "        elif len(audio_data) > fixed_length:\n",
    "            audio_data = audio_data[:fixed_length]\n",
    "        \n",
    "        # Agregar los datos de audio a la lista X\n",
    "        X.append(audio_data)\n",
    "        \n",
    "        # Agregar la etiqueta del diagnóstico a la lista y\n",
    "        y.append(diagnosis)\n",
    "\n",
    "# Convertir las listas X y y a matrices numpy\n",
    "X = np.array(X)\n",
    "y = np.array(y)\n",
    "\n",
    "# Dividir los datos en conjuntos de entrenamiento y prueba\n",
    "X_train, X_test, y_train, y_test = train_test_split(X, y, test_size=0.2, random_state=30)\n",
    "\n",
    "# Entrenar un modelo de Random Forest\n",
    "model_rf = RandomForestClassifier(n_estimators=45, random_state=25)\n",
    "model_rf.fit(X_train, y_train)\n",
    "\n",
    "# Predecir en el conjunto de prueba\n",
    "y_pred = model_rf.predict(X_test)\n",
    "\n",
    "# Calcular la precisión del modelo\n",
    "AccuracyRandomForest = accuracy_score(y_test, y_pred)\n",
    "print(\"Precisión del modelo: {:.2f}%\".format(AccuracyRandomForest * 100))"
   ]
  },
  {
   "attachments": {},
   "cell_type": "markdown",
   "metadata": {},
   "source": [
    "#### Support Vector Machines (SVM)"
   ]
  },
  {
   "cell_type": "code",
   "execution_count": 114,
   "metadata": {},
   "outputs": [
    {
     "name": "stdout",
     "output_type": "stream",
     "text": [
      "Precisión del modelo: 33.12%\n"
     ]
    }
   ],
   "source": [
    "# Ruta de la carpeta que contiene los archivos de audio\n",
    "folder_path = \"salida-2\"\n",
    "\n",
    "# Lista de diagnósticos\n",
    "diagnoses = [\"Bronchiolitis\", \"COPD\", \"Healthy\", \"Pneumonia\", \"URTI\"]\n",
    "\n",
    "# Longitud fija para rellenar o truncar los archivos de audio\n",
    "fixed_length = 44100\n",
    "\n",
    "# Listas para almacenar los datos de entrenamiento\n",
    "X = []\n",
    "y = []\n",
    "\n",
    "# Recorrer los diagnósticos\n",
    "for diagnosis in diagnoses:\n",
    "    # Ruta de la carpeta del diagnóstico\n",
    "    diagnosis_folder = os.path.join(folder_path, diagnosis)\n",
    "    \n",
    "    # Obtener la lista de archivos de audio en la carpeta\n",
    "    audio_files = os.listdir(diagnosis_folder)\n",
    "    \n",
    "    # Recorrer los archivos de audio\n",
    "    for file in audio_files:\n",
    "        # Ruta del archivo de audio\n",
    "        audio_path = os.path.join(diagnosis_folder, file)\n",
    "        \n",
    "        # Leer el archivo de audio\n",
    "        sample_rate, audio_data = wavfile.read(audio_path)\n",
    "        \n",
    "        # Rellenar o truncar el archivo de audio para tener una longitud fija\n",
    "        if len(audio_data) < fixed_length:\n",
    "            audio_data = np.pad(audio_data, (0, fixed_length - len(audio_data)), mode='constant')\n",
    "        elif len(audio_data) > fixed_length:\n",
    "            audio_data = audio_data[:fixed_length]\n",
    "        \n",
    "        # Agregar los datos de audio a la lista X\n",
    "        X.append(audio_data)\n",
    "        \n",
    "        # Agregar la etiqueta del diagnóstico a la lista y\n",
    "        y.append(diagnosis)\n",
    "\n",
    "# Convertir las listas X y y a matrices numpy\n",
    "X = np.array(X)\n",
    "y = np.array(y)\n",
    "\n",
    "# Entrenar un modelo de Support Vector Machine (SVM)\n",
    "model_svm = SVC(random_state=10)\n",
    "model_svm.fit(X_train, y_train)\n",
    "\n",
    "# Predecir en el conjunto de prueba\n",
    "y_pred = model_svm.predict(X_test)\n",
    "\n",
    "# Calcular la precisión del modelo\n",
    "AccuracySVM = accuracy_score(y_test, y_pred)\n",
    "print(\"Precisión del modelo: {:.2f}%\".format(AccuracySVM * 100))"
   ]
  },
  {
   "attachments": {},
   "cell_type": "markdown",
   "metadata": {},
   "source": [
    "#### Redes Neuronales Convolucionales (CNN)"
   ]
  },
  {
   "cell_type": "code",
   "execution_count": 121,
   "metadata": {},
   "outputs": [
    {
     "name": "stdout",
     "output_type": "stream",
     "text": [
      "Epoch 1/10\n",
      "20/20 [==============================] - 20s 932ms/step - loss: 13070742.0000 - accuracy: 0.1875 - val_loss: 586911.1875 - val_accuracy: 0.2250\n",
      "Epoch 2/10\n",
      "20/20 [==============================] - 19s 937ms/step - loss: 137028.9688 - accuracy: 0.2078 - val_loss: 69.4681 - val_accuracy: 0.2000\n",
      "Epoch 3/10\n",
      "20/20 [==============================] - 18s 920ms/step - loss: 1009.9014 - accuracy: 0.2062 - val_loss: 1.6104 - val_accuracy: 0.2000\n",
      "Epoch 4/10\n",
      "20/20 [==============================] - 18s 918ms/step - loss: 974.8244 - accuracy: 0.2078 - val_loss: 74.3071 - val_accuracy: 0.2000\n",
      "Epoch 5/10\n",
      "20/20 [==============================] - 18s 922ms/step - loss: 3.2492 - accuracy: 0.2078 - val_loss: 81.2276 - val_accuracy: 0.2000\n",
      "Epoch 6/10\n",
      "20/20 [==============================] - 18s 917ms/step - loss: 1.5968 - accuracy: 0.2078 - val_loss: 79.7492 - val_accuracy: 0.2000\n",
      "Epoch 7/10\n",
      "20/20 [==============================] - 18s 909ms/step - loss: 1.5968 - accuracy: 0.2094 - val_loss: 79.5636 - val_accuracy: 0.1688\n",
      "Epoch 8/10\n",
      "20/20 [==============================] - 18s 907ms/step - loss: 1.5968 - accuracy: 0.1906 - val_loss: 79.5371 - val_accuracy: 0.2000\n",
      "Epoch 9/10\n",
      "20/20 [==============================] - 18s 906ms/step - loss: 1.5968 - accuracy: 0.2141 - val_loss: 79.5340 - val_accuracy: 0.1688\n",
      "Epoch 10/10\n",
      "20/20 [==============================] - 18s 910ms/step - loss: 1.5968 - accuracy: 0.2125 - val_loss: 79.5339 - val_accuracy: 0.1688\n",
      "5/5 [==============================] - 1s 184ms/step - loss: 79.5339 - accuracy: 0.1688\n",
      "Precisión del modelo: 16.88%\n"
     ]
    }
   ],
   "source": [
    "# Ruta de la carpeta que contiene los archivos de audio\n",
    "folder_path = \"salida-2\"\n",
    "\n",
    "# Lista de diagnósticos\n",
    "diagnoses = [\"Bronchiolitis\", \"COPD\", \"Healthy\", \"Pneumonia\", \"URTI\"]\n",
    "\n",
    "# Longitud fija para rellenar o truncar los archivos de audio\n",
    "fixed_length = 44100\n",
    "\n",
    "# Listas para almacenar los datos de entrenamiento\n",
    "X = []\n",
    "y = []\n",
    "\n",
    "# Recorrer los diagnósticos\n",
    "for diagnosis in diagnoses:\n",
    "    # Ruta de la carpeta del diagnóstico\n",
    "    diagnosis_folder = os.path.join(folder_path, diagnosis)\n",
    "    \n",
    "    # Obtener la lista de archivos de audio en la carpeta\n",
    "    audio_files = os.listdir(diagnosis_folder)\n",
    "    \n",
    "    # Recorrer los archivos de audio\n",
    "    for file in audio_files:\n",
    "        # Ruta del archivo de audio\n",
    "        audio_path = os.path.join(diagnosis_folder, file)\n",
    "        \n",
    "        # Leer el archivo de audio\n",
    "        sample_rate, audio_data = wavfile.read(audio_path)\n",
    "        \n",
    "        # Rellenar o truncar el archivo de audio para tener una longitud fija\n",
    "        if len(audio_data) < fixed_length:\n",
    "            audio_data = np.pad(audio_data, (0, fixed_length - len(audio_data)), mode='constant')\n",
    "        elif len(audio_data) > fixed_length:\n",
    "            audio_data = audio_data[:fixed_length]\n",
    "        \n",
    "        # Agregar los datos de audio a la lista X\n",
    "        X.append(audio_data)\n",
    "        \n",
    "        # Agregar la etiqueta del diagnóstico a la lista y\n",
    "        y.append(diagnosis)\n",
    "\n",
    "# Convertir las listas X y y a matrices numpy\n",
    "X = np.array(X)\n",
    "y = np.array(y)\n",
    "\n",
    "# Codificar las etiquetas de clase\n",
    "label_encoder = LabelEncoder()\n",
    "y = label_encoder.fit_transform(y)\n",
    "\n",
    "# Dividir los datos en conjuntos de entrenamiento y prueba\n",
    "X_train, X_test, y_train, y_test = train_test_split(X, y, test_size=0.2, random_state=30)\n",
    "\n",
    "# Normalizar los datos de entrada\n",
    "X_train = X_train.astype('float32') / 255.0\n",
    "X_test = X_test.astype('float32') / 255.0\n",
    "\n",
    "# Reshape de los datos para que tengan la forma (número de muestras, longitud de audio, 1)\n",
    "X_train = np.expand_dims(X_train, axis=-1)\n",
    "X_test = np.expand_dims(X_test, axis=-1)\n",
    "\n",
    "# Construir el modelo de CNN\n",
    "model_cnn = Sequential()\n",
    "model_cnn.add(Conv1D(32, 3, activation='relu', input_shape=(fixed_length, 1)))\n",
    "model_cnn.add(MaxPooling1D(2))\n",
    "model_cnn.add(Conv1D(64, 3, activation='relu'))\n",
    "model_cnn.add(MaxPooling1D(2))\n",
    "model_cnn.add(Flatten())\n",
    "model_cnn.add(Dense(64, activation='relu'))\n",
    "model_cnn.add(Dense(len(diagnoses), activation='softmax'))\n",
    "\n",
    "# Compilar el modelo\n",
    "model_cnn.compile(optimizer='adam', loss='sparse_categorical_crossentropy', metrics=['accuracy'])\n",
    "\n",
    "# Entrenar el modelo\n",
    "model_cnn.fit(X_train, y_train, epochs=10, batch_size=32, validation_data=(X_test, y_test))\n",
    "\n",
    "# Evaluar el modelo en el conjunto de prueba\n",
    "_, accuracy = model_cnn.evaluate(X_test, y_test)\n",
    "AccuracyCNN = accuracy\n",
    "print(\"Precisión del modelo: {:.2f}%\".format(AccuracyCNN * 100))\n"
   ]
  },
  {
   "attachments": {},
   "cell_type": "markdown",
   "metadata": {},
   "source": [
    "#### Series de tiempo con parametros estadisticos"
   ]
  },
  {
   "cell_type": "code",
   "execution_count": 119,
   "metadata": {},
   "outputs": [
    {
     "name": "stdout",
     "output_type": "stream",
     "text": [
      "Precisión del modelo: 38.75%\n"
     ]
    }
   ],
   "source": [
    "# Ruta de la carpeta que contiene los archivos de audio\n",
    "folder_path = \"salida-2\"\n",
    "\n",
    "# Lista de diagnósticos\n",
    "diagnoses = [\"Bronchiolitis\", \"COPD\", \"Healthy\", \"Pneumonia\", \"URTI\"]\n",
    "\n",
    "# Listas para almacenar las características y etiquetas\n",
    "features = []\n",
    "labels = []\n",
    "\n",
    "# Recorrer los diagnósticos\n",
    "for diagnosis in diagnoses:\n",
    "    # Ruta de la carpeta del diagnóstico\n",
    "    diagnosis_folder = os.path.join(folder_path, diagnosis)\n",
    "    \n",
    "    # Obtener la lista de archivos de audio en la carpeta\n",
    "    audio_files = os.listdir(diagnosis_folder)\n",
    "    \n",
    "    # Recorrer los archivos de audio\n",
    "    for file in audio_files:\n",
    "        # Ruta del archivo de audio\n",
    "        audio_path = os.path.join(diagnosis_folder, file)\n",
    "        \n",
    "        # Leer el archivo de audio\n",
    "        sample_rate, audio_data = wavfile.read(audio_path)\n",
    "        \n",
    "        # Obtener las características de la serie de tiempo (media y desviación estándar)\n",
    "        time_series_mean = np.mean(audio_data)\n",
    "        time_series_std = np.std(audio_data)\n",
    "        \n",
    "        # Agregar las características a la lista de características\n",
    "        features.append([time_series_mean, time_series_std])\n",
    "        \n",
    "        # Agregar la etiqueta del diagnóstico a la lista de etiquetas\n",
    "        labels.append(diagnosis)\n",
    "\n",
    "# Convertir las listas de características y etiquetas a matrices numpy\n",
    "X = np.array(features)\n",
    "y = np.array(labels)\n",
    "\n",
    "# Dividir los datos en conjuntos de entrenamiento y prueba\n",
    "X_train, X_test, y_train, y_test = train_test_split(X, y, test_size=0.2, random_state=45)\n",
    "\n",
    "# Entrenar un modelo de Random Forest\n",
    "model_ts = RandomForestClassifier(n_estimators=45, random_state=25)\n",
    "model_ts.fit(X_train, y_train)\n",
    "\n",
    "# Predecir en el conjunto de prueba\n",
    "y_pred = model_ts.predict(X_test)\n",
    "\n",
    "# Calcular la precisión del modelo\n",
    "AccuracyTS = accuracy_score(y_test, y_pred)\n",
    "print(\"Precisión del modelo: {:.2f}%\".format(AccuracyTS * 100))\n"
   ]
  },
  {
   "attachments": {},
   "cell_type": "markdown",
   "metadata": {},
   "source": [
    "#### Serie de tiempo con tranformada de furier"
   ]
  },
  {
   "cell_type": "code",
   "execution_count": 129,
   "metadata": {},
   "outputs": [
    {
     "name": "stdout",
     "output_type": "stream",
     "text": [
      "Precisión del modelo: 62.50%\n"
     ]
    }
   ],
   "source": [
    "# Ruta de la carpeta que contiene los archivos de audio\n",
    "folder_path = \"salida-2\"\n",
    "\n",
    "# Lista de diagnósticos\n",
    "diagnoses = [\"Bronchiolitis\", \"COPD\", \"Healthy\", \"Pneumonia\", \"URTI\"]\n",
    "\n",
    "# Parámetros para la transformada de Fourier\n",
    "n_fft = 2048  # Tamaño de la ventana de análisis\n",
    "hop_length = 512  # Desplazamiento entre ventanas\n",
    "\n",
    "# Lista para almacenar las características y etiquetas\n",
    "features = []\n",
    "labels = []\n",
    "\n",
    "# Recorrer los diagnósticos\n",
    "for diagnosis in diagnoses:\n",
    "    # Ruta de la carpeta del diagnóstico\n",
    "    diagnosis_folder = os.path.join(folder_path, diagnosis)\n",
    "    \n",
    "    # Obtener la lista de archivos de audio en la carpeta\n",
    "    audio_files = os.listdir(diagnosis_folder)\n",
    "    \n",
    "    # Recorrer los archivos de audio\n",
    "    for file in audio_files:\n",
    "        # Ruta del archivo de audio\n",
    "        audio_path = os.path.join(diagnosis_folder, file)\n",
    "        \n",
    "        # Leer el archivo de audio y obtener la duración\n",
    "        sample_rate, audio_data = wavfile.read(audio_path)\n",
    "        \n",
    "        # Convertir los datos de audio a punto flotante\n",
    "        audio_data = audio_data.astype(np.float32) / np.iinfo(audio_data.dtype).max\n",
    "        \n",
    "        # Calcular la transformada de Fourier de la serie de tiempo\n",
    "        audio_fft = np.abs(librosa.stft(audio_data, n_fft=n_fft, hop_length=hop_length))\n",
    "        \n",
    "        # Aplanar la matriz de amplitudes de la transformada de Fourier\n",
    "        audio_fft_flat = audio_fft.flatten()\n",
    "        \n",
    "        # Agregar las características a la lista de características\n",
    "        features.append(audio_fft_flat)\n",
    "        \n",
    "        # Agregar la etiqueta del diagnóstico a la lista de etiquetas\n",
    "        labels.append(diagnosis)\n",
    "\n",
    "# Crear un DataFrame para almacenar las características y etiquetas\n",
    "df = pd.DataFrame(features)\n",
    "df['label'] = labels\n",
    "\n",
    "# Obtener las características y etiquetas del DataFrame\n",
    "X = df.iloc[:, :-1].values\n",
    "y = df.iloc[:, -1].values\n",
    "\n",
    "# Imputar valores NaN utilizando la estrategia de reemplazo por la media\n",
    "imputer = SimpleImputer(strategy='mean')\n",
    "X = imputer.fit_transform(X)\n",
    "\n",
    "# Dividir los datos en conjuntos de entrenamiento y prueba\n",
    "X_train, X_test, y_train, y_test = train_test_split(X, y, test_size=0.2, random_state=30)\n",
    "\n",
    "# Entrenar un modelo de Random Forest\n",
    "model_tsf = RandomForestClassifier(n_estimators=45, random_state=25)\n",
    "model_tsf.fit(X_train, y_train)\n",
    "\n",
    "# Predecir en el conjunto de prueba\n",
    "y_pred = model_tsf.predict(X_test)\n",
    "\n",
    "# Calcular la precisión del modelo\n",
    "AccuracyTSF = accuracy_score(y_test, y_pred)\n",
    "print(\"Precisión del modelo: {:.2f}%\".format(AccuracyTSF * 100))\n"
   ]
  },
  {
   "cell_type": "code",
   "execution_count": 128,
   "metadata": {},
   "outputs": [
    {
     "name": "stdout",
     "output_type": "stream",
     "text": [
      "[2.95298889e+01 5.34074583e+01 4.32524850e+01 ... 8.94154892e-04\n",
      " 4.72624366e-03 2.24859342e-02]\n"
     ]
    }
   ],
   "source": [
    "print(audio_fft_flat)"
   ]
  },
  {
   "attachments": {},
   "cell_type": "markdown",
   "metadata": {},
   "source": [
    "### Graficar"
   ]
  },
  {
   "cell_type": "code",
   "execution_count": 130,
   "metadata": {},
   "outputs": [
    {
     "data": {
      "image/png": "[encoded data removed]",
      "text/plain": [
       "<Figure size 640x480 with 1 Axes>"
      ]
     },
     "metadata": {},
     "output_type": "display_data"
    }
   ],
   "source": [
    "Accuracys = [AccuracyTS, AccuracySVM, AccuracyRandomForest, AccuracyCNN , AccuracyTSF]\n",
    "ModelNames = [\"TS(statistics)\", \"SVM\", \"RandomForest\", \"CNN\", \"TS(Furier)\"]\n",
    "num_bars = len(Accuracys)\n",
    "\n",
    "plt.bar(ModelNames, [score * 100 for score in Accuracys], color=plt.cm.Set1(range(num_bars)))\n",
    "plt.xlabel(\"Modelos\")\n",
    "plt.ylabel(\"Precisión (%)\")\n",
    "plt.title(\"Rendimiento de los modelos\")\n",
    "#plt.xticks(rotation=45)\n",
    "for i in range(num_bars):\n",
    "    plt.text(i, Accuracys[i] * 100 + 1, f\"{Accuracys[i] * 100:.2f}%\", ha='center')\n",
    "plt.show()"
   ]
  },
  {
   "attachments": {},
   "cell_type": "markdown",
   "metadata": {},
   "source": [
    "### Predecir resultados de nuevos datos"
   ]
  },
  {
   "cell_type": "code",
   "execution_count": 136,
   "metadata": {},
   "outputs": [
    {
     "name": "stdout",
     "output_type": "stream",
     "text": [
      "El diagnóstico del audio por Random Forest es: ['Healthy']\n",
      "El diagnóstico del audio por SVM es: ['Bronchiolitis']\n",
      "El diagnóstico del audio por Series de tiempo con parametros estadisticos y random forest es: ['Pneumonia']\n"
     ]
    }
   ],
   "source": [
    "# Ruta del archivo de audio nuevo\n",
    "new_audio_path = \"salida/Pneumonia/122_2b1_Ar_mc_LittC2SE.wav_875.wav\"\n",
    "# Leer el archivo de audio nuevo\n",
    "sample_rate, audio_data = wavfile.read(new_audio_path)\n",
    "\n",
    "# Rellenar o truncar el archivo de audio para tener una longitud fija\n",
    "if len(audio_data) < fixed_length:\n",
    "    audio_data = np.pad(audio_data, (0, fixed_length - len(audio_data)), mode='constant')\n",
    "elif len(audio_data) > fixed_length:\n",
    "    audio_data = audio_data[:fixed_length]\n",
    "\n",
    "# Convertir el audio a un arreglo unidimensional\n",
    "audio_data = audio_data.flatten()\n",
    "\n",
    "# Preprocesar el audio de la misma manera que los datos de entrenamiento\n",
    "new_audio = np.array([audio_data])\n",
    "\n",
    "# Leer el archivo de audio nuevo\n",
    "sample_rate, audio_data = wavfile.read(new_audio_path)\n",
    "\n",
    "# Obtener las características de la serie de tiempo (media y desviación estándar)\n",
    "time_series_mean = np.mean(audio_data)\n",
    "time_series_std = np.std(audio_data)\n",
    "\n",
    "# Crear un arreglo con las características del nuevo audio\n",
    "new_audio_features = np.array([[time_series_mean, time_series_std]])\n",
    "\n",
    "# Realizar la predicción en el audio nuevo\n",
    "predicted_diagnosis_rf = model_rf.predict(new_audio)\n",
    "predicted_diagnosis_svm = model_svm.predict(new_audio)\n",
    "#predicted_diagnosis_cnn = model_cnn.predict(new_audio)\n",
    "predicted_diagnosis_ts = model_ts.predict(new_audio_features)\n",
    "\n",
    "# Imprimir el diagnóstico predicho\n",
    "print(\"El diagnóstico del audio por Random Forest es:\", predicted_diagnosis_rf)\n",
    "print(\"El diagnóstico del audio por SVM es:\", predicted_diagnosis_svm)\n",
    "#print(\"El diagnóstico del audio por CNN es:\", predicted_diagnosis_cnn)\n",
    "print(\"El diagnóstico del audio por Series de tiempo con parametros estadisticos y random forest es:\", predicted_diagnosis_ts)\n",
    "\n"
   ]
  }
 ],
 "metadata": {
  "kernelspec": {
   "display_name": "Python 3",
   "language": "python",
   "name": "python3"
  },
  "language_info": {
   "codemirror_mode": {
    "name": "ipython",
    "version": 3
   },
   "file_extension": ".py",
   "mimetype": "text/x-python",
   "name": "python",
   "nbconvert_exporter": "python",
   "pygments_lexer": "ipython3",
   "version": "3.11.3"
  },
  "orig_nbformat": 4
 },
 "nbformat": 4,
 "nbformat_minor": 2
}
